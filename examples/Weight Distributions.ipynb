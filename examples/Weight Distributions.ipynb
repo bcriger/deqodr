{
 "metadata": {
  "name": "",
  "signature": "sha256:480dbef08a03791b42b4adca2d3b896bc8c13b80270ef31f5fc43d15625b7078"
 },
 "nbformat": 3,
 "nbformat_minor": 0,
 "worksheets": [
  {
   "cells": [
    {
     "cell_type": "markdown",
     "metadata": {},
     "source": [
      "This notebook provides examples of how the samplers in `deqodr` can be used to estimate (or count exactly) the weights of the elements of a coset of the stabilizer for some quantum error correcting code."
     ]
    },
    {
     "cell_type": "code",
     "collapsed": false,
     "input": [
      "%pylab --no-import-all inline\n",
      "import deqodr as dq"
     ],
     "language": "python",
     "metadata": {},
     "outputs": [
      {
       "output_type": "stream",
       "stream": "stdout",
       "text": [
        "Populating the interactive namespace from numpy and matplotlib\n"
       ]
      }
     ],
     "prompt_number": 1
    },
    {
     "cell_type": "markdown",
     "metadata": {},
     "source": [
      "First, we'll calculate and plot the stabilizer distribution for a 3-by-3 toric code:"
     ]
    },
    {
     "cell_type": "code",
     "collapsed": false,
     "input": [
      "small_code = dq.toric_code(3)"
     ],
     "language": "python",
     "metadata": {},
     "outputs": [],
     "prompt_number": 2
    },
    {
     "cell_type": "code",
     "collapsed": false,
     "input": [
      "stab_count, stab_wts = dq.coset_hist(small_code)"
     ],
     "language": "python",
     "metadata": {},
     "outputs": [],
     "prompt_number": 3
    },
    {
     "cell_type": "code",
     "collapsed": false,
     "input": [
      "pylab.bar(stab_wts, stab_count)\n",
      "print stab_wts, stab_count"
     ],
     "language": "python",
     "metadata": {},
     "outputs": [
      {
       "output_type": "stream",
       "stream": "stdout",
       "text": [
        "[ 0  1  2  3  4  5  6  7  8  9 10 11 12 13 14 15 16 17 18] [  1.00000000e+00   0.00000000e+00   0.00000000e+00   0.00000000e+00\n",
        "   1.80000000e+01   0.00000000e+00   8.40000000e+01   0.00000000e+00\n",
        "   6.84000000e+02   0.00000000e+00   4.64400000e+03   0.00000000e+00\n",
        "   1.82700000e+04   0.00000000e+00   2.86200000e+04   0.00000000e+00\n",
        "   1.27710000e+04   0.00000000e+00   4.44000000e+02]\n"
       ]
      },
      {
       "metadata": {},
       "output_type": "display_data",
       "png": "[encoded data removed]",
       "text": [
        "<matplotlib.figure.Figure at 0x3120f50>"
       ]
      }
     ],
     "prompt_number": 5
    },
    {
     "cell_type": "markdown",
     "metadata": {},
     "source": [
      "Let's examine the weight distributions of the cosets that include logical operators:"
     ]
    },
    {
     "cell_type": "code",
     "collapsed": false,
     "input": [
      "x_0, x_1 = small_code.logical_xs\n",
      "z_0, z_1 = small_code.logical_zs"
     ],
     "language": "python",
     "metadata": {},
     "outputs": [],
     "prompt_number": 10
    },
    {
     "cell_type": "code",
     "collapsed": false,
     "input": [
      "x_0_count, x_0_wts = dq.coset_hist(small_code, x_0)\n",
      "x_1_count, x_1_wts = dq.coset_hist(small_code, x_1)\n",
      "z_0_count, z_0_wts = dq.coset_hist(small_code, z_0)\n",
      "z_1_count, z_1_wts = dq.coset_hist(small_code, z_1)"
     ],
     "language": "python",
     "metadata": {},
     "outputs": [],
     "prompt_number": 11
    },
    {
     "cell_type": "code",
     "collapsed": false,
     "input": [
      "ax = pylab.subplot(111)\n",
      "ax.bar(x_0_wts, np.log(x_0_count), color='b', alpha=0.25)\n",
      "ax.bar(x_1_wts, np.log(x_1_count), color='r', alpha=0.25)\n",
      "ax.bar(z_0_wts, np.log(z_0_count), color='g', alpha=0.25)\n",
      "ax.bar(z_1_wts, np.log(z_1_count), color='y', alpha=0.25)"
     ],
     "language": "python",
     "metadata": {},
     "outputs": [
      {
       "output_type": "stream",
       "stream": "stderr",
       "text": [
        "-c:2: RuntimeWarning: divide by zero encountered in log\n",
        "-c:3: RuntimeWarning: divide by zero encountered in log\n",
        "-c:4: RuntimeWarning: divide by zero encountered in log\n",
        "-c:5: RuntimeWarning: divide by zero encountered in log\n"
       ]
      },
      {
       "metadata": {},
       "output_type": "pyout",
       "prompt_number": 12,
       "text": [
        "<Container object of 19 artists>"
       ]
      },
      {
       "metadata": {},
       "output_type": "display_data",
       "png": "[encoded data removed]",
       "text": [
        "<matplotlib.figure.Figure at 0x47c65d0>"
       ]
      }
     ],
     "prompt_number": 12
    },
    {
     "cell_type": "markdown",
     "metadata": {},
     "source": [
      "We can see that all the bars overlap, let's test whether they overlap exactly:"
     ]
    },
    {
     "cell_type": "code",
     "collapsed": false,
     "input": [
      "print max([abs(x_0_count[wt] - x_1_count[wt]) for wt in x_0_wts])\n",
      "print max([abs(x_0_count[wt] - z_0_count[wt]) for wt in x_0_wts])\n",
      "print max([abs(x_0_count[wt] - z_1_count[wt]) for wt in x_0_wts])"
     ],
     "language": "python",
     "metadata": {},
     "outputs": [
      {
       "output_type": "stream",
       "stream": "stdout",
       "text": [
        "0.0\n",
        "0.0\n",
        "0.0\n"
       ]
      }
     ],
     "prompt_number": 79
    },
    {
     "cell_type": "markdown",
     "metadata": {},
     "source": [
      " This means that the free energies for the weight distributions that include one logical operator will all be identical. Let's look at 2, 3, and all 4:"
     ]
    },
    {
     "cell_type": "code",
     "collapsed": false,
     "input": [
      "x_01_count, x_01_wts = dq.coset_hist(small_code, x_0 * x_1)\n",
      "z_01_count, z_01_wts = dq.coset_hist(small_code, z_0 * z_1)\n",
      "xz_00_count, xz_00_wts = dq.coset_hist(small_code, x_0 * z_0)\n",
      "xz_11_count, xz_11_wts = dq.coset_hist(small_code, x_1 * z_1)\n",
      "xz_01_count, xz_01_wts = dq.coset_hist(small_code, x_0 * z_1)\n",
      "xz_10_count, xz_10_wts = dq.coset_hist(small_code, x_1 * z_0)"
     ],
     "language": "python",
     "metadata": {},
     "outputs": [],
     "prompt_number": 34
    },
    {
     "cell_type": "code",
     "collapsed": false,
     "input": [
      "ax = pylab.subplot(111)\n",
      "ax.bar(x_01_wts, x_01_count, color='b', alpha=0.25)\n",
      "ax.bar(z_01_wts, z_01_count, color='r', alpha=0.25)\n",
      "ax.bar(xz_00_wts, xz_00_count, color='g', alpha=0.25)\n",
      "ax.bar(xz_11_wts, xz_11_count, color='y', alpha=0.25)\n",
      "ax.bar(xz_01_wts, xz_01_count, color='k', alpha=0.25)\n",
      "ax.bar(xz_10_wts, xz_10_count, color='m', alpha=0.25)"
     ],
     "language": "python",
     "metadata": {},
     "outputs": [
      {
       "metadata": {},
       "output_type": "pyout",
       "prompt_number": 47,
       "text": [
        "<Container object of 19 artists>"
       ]
      },
      {
       "metadata": {},
       "output_type": "display_data",
       "png": "[encoded data removed]",
       "text": [
        "<matplotlib.figure.Figure at 0x8775a10>"
       ]
      }
     ],
     "prompt_number": 47
    },
    {
     "cell_type": "markdown",
     "metadata": {},
     "source": [
      "We see that weight-two logicals don't all induce identical weight distributions. On a hunch, let's plot these distributions for operators which affect the same number of logical qubits:"
     ]
    },
    {
     "cell_type": "code",
     "collapsed": false,
     "input": [
      "pylab.subplot(111)\n",
      "pylab.bar(xz_01_wts, xz_01_count, color='k', alpha=0.25)\n",
      "pylab.bar(xz_10_wts, xz_10_count, color='m', alpha=0.25)"
     ],
     "language": "python",
     "metadata": {},
     "outputs": [
      {
       "metadata": {},
       "output_type": "pyout",
       "prompt_number": 80,
       "text": [
        "<Container object of 19 artists>"
       ]
      },
      {
       "metadata": {},
       "output_type": "display_data",
       "png": "[encoded data removed]",
       "text": [
        "<matplotlib.figure.Figure at 0xb0757d0>"
       ]
      }
     ],
     "prompt_number": 80
    },
    {
     "cell_type": "code",
     "collapsed": false,
     "input": [
      "print max([abs(xz_01_count[wt] - xz_10_count[wt]) for wt in xz_01_wts])"
     ],
     "language": "python",
     "metadata": {},
     "outputs": [
      {
       "output_type": "stream",
       "stream": "stdout",
       "text": [
        "0.0\n"
       ]
      }
     ],
     "prompt_number": 82
    },
    {
     "cell_type": "code",
     "collapsed": false,
     "input": [
      "ax = pylab.subplot(111)\n",
      "ax.bar(x_01_wts, x_01_count, color='b', alpha=0.25)\n",
      "ax.bar(z_01_wts, z_01_count, color='r', alpha=0.25)\n",
      "ax.bar(xz_00_wts, xz_00_count, color='g', alpha=0.25)\n",
      "ax.bar(xz_11_wts, xz_11_count, color='y', alpha=0.25)"
     ],
     "language": "python",
     "metadata": {},
     "outputs": [
      {
       "metadata": {},
       "output_type": "pyout",
       "prompt_number": 66,
       "text": [
        "<Container object of 19 artists>"
       ]
      },
      {
       "metadata": {},
       "output_type": "display_data",
       "png": "[encoded data removed]",
       "text": [
        "<matplotlib.figure.Figure at 0xa87ebd0>"
       ]
      }
     ],
     "prompt_number": 66
    },
    {
     "cell_type": "code",
     "collapsed": false,
     "input": [
      "print max([abs(x_01_count[wt] - z_01_count[wt]) for wt in x_01_wts])\n",
      "print max([abs(x_01_count[wt] - xz_00_count[wt]) for wt in x_01_wts])\n",
      "print max([abs(x_01_count[wt] - xz_11_count[wt]) for wt in x_01_wts])\n",
      "print max([abs(xz_00_count[wt] - xz_11_count[wt]) for wt in x_01_wts])"
     ],
     "language": "python",
     "metadata": {},
     "outputs": [
      {
       "output_type": "stream",
       "stream": "stdout",
       "text": [
        "0.0\n",
        "60.0\n",
        "60.0\n",
        "0.0\n"
       ]
      }
     ],
     "prompt_number": 84
    },
    {
     "cell_type": "markdown",
     "metadata": {},
     "source": [
      "This is interesting. Let's try the weight three operators (denoted by which logical operator they don't contain):"
     ]
    },
    {
     "cell_type": "code",
     "collapsed": false,
     "input": [
      "n_x_0_count, n_x_0_wts = dq.coset_hist(small_code, x_1 * z_0 * z_1)\n",
      "n_x_1_count, n_x_1_wts = dq.coset_hist(small_code, x_0 * z_0 * z_1)\n",
      "n_z_0_count, n_z_0_wts = dq.coset_hist(small_code, x_1 * x_0 * z_1)\n",
      "n_z_1_count, n_z_1_wts = dq.coset_hist(small_code, x_1 * z_0 * x_0)"
     ],
     "language": "python",
     "metadata": {},
     "outputs": [],
     "prompt_number": 67
    },
    {
     "cell_type": "code",
     "collapsed": false,
     "input": [
      "ax = pylab.subplot(111)\n",
      "ax.bar(n_x_0_wts, n_x_0_count, color='b', alpha=0.25)\n",
      "ax.bar(n_x_1_wts, n_x_1_count, color='r', alpha=0.25)\n",
      "ax.bar(n_z_0_wts, n_z_0_count, color='g', alpha=0.25)\n",
      "ax.bar(n_z_1_wts, n_z_1_count, color='y', alpha=0.25)"
     ],
     "language": "python",
     "metadata": {},
     "outputs": [
      {
       "metadata": {},
       "output_type": "pyout",
       "prompt_number": 68,
       "text": [
        "<Container object of 19 artists>"
       ]
      },
      {
       "metadata": {},
       "output_type": "display_data",
       "png": "[encoded data removed]",
       "text": [
        "<matplotlib.figure.Figure at 0xaa78910>"
       ]
      }
     ],
     "prompt_number": 68
    },
    {
     "cell_type": "markdown",
     "metadata": {},
     "source": [
      "Let's also test the logical Y on both qubits:"
     ]
    },
    {
     "cell_type": "code",
     "collapsed": false,
     "input": [
      "yy_count, yy_wts = dq.coset_hist(small_code, x_1 * x_0 * z_0 * z_1)"
     ],
     "language": "python",
     "metadata": {},
     "outputs": [],
     "prompt_number": 69
    },
    {
     "cell_type": "code",
     "collapsed": false,
     "input": [
      "ax = pylab.subplot(111)\n",
      "ax.bar(yy_wts, yy_count, color='k', alpha=0.25)"
     ],
     "language": "python",
     "metadata": {},
     "outputs": [
      {
       "metadata": {},
       "output_type": "pyout",
       "prompt_number": 70,
       "text": [
        "<Container object of 19 artists>"
       ]
      },
      {
       "metadata": {},
       "output_type": "display_data",
       "png": "[encoded data removed]",
       "text": [
        "<matplotlib.figure.Figure at 0xa18bd90>"
       ]
      }
     ],
     "prompt_number": 70
    },
    {
     "cell_type": "code",
     "collapsed": false,
     "input": [
      "yy_count[6]"
     ],
     "language": "python",
     "metadata": {},
     "outputs": [
      {
       "metadata": {},
       "output_type": "pyout",
       "prompt_number": 74,
       "text": [
        "6.0"
       ]
      }
     ],
     "prompt_number": 74
    },
    {
     "cell_type": "code",
     "collapsed": false,
     "input": [],
     "language": "python",
     "metadata": {},
     "outputs": []
    }
   ],
   "metadata": {}
  }
 ]
}