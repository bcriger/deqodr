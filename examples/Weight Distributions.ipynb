{
 "metadata": {
  "name": ""
 },
 "nbformat": 3,
 "nbformat_minor": 0,
 "worksheets": [
  {
   "cells": [
    {
     "cell_type": "markdown",
     "metadata": {},
     "source": [
      "This notebook provides examples of how the samplers in `deqodr` can be used to estimate (or count exactly) the weights of the elements of a coset of the stabilizer for some quantum error correcting code."
     ]
    },
    {
     "cell_type": "code",
     "collapsed": false,
     "input": [
      "%pylab --no-import-all inline\n",
      "import deqodr as dq"
     ],
     "language": "python",
     "metadata": {},
     "outputs": [
      {
       "output_type": "stream",
       "stream": "stdout",
       "text": [
        "Populating the interactive namespace from numpy and matplotlib\n"
       ]
      }
     ],
     "prompt_number": 1
    },
    {
     "cell_type": "markdown",
     "metadata": {},
     "source": [
      "First, we'll calculate and plot the stabilizer distribution for a 3-by-3 toric code:"
     ]
    },
    {
     "cell_type": "code",
     "collapsed": false,
     "input": [
      "small_code = dq.toric_code(3)"
     ],
     "language": "python",
     "metadata": {},
     "outputs": [],
     "prompt_number": 10
    },
    {
     "cell_type": "code",
     "collapsed": false,
     "input": [
      "stab_count, stab_wts = dq.coset_hist(small_code)"
     ],
     "language": "python",
     "metadata": {},
     "outputs": [],
     "prompt_number": 13
    },
    {
     "cell_type": "code",
     "collapsed": false,
     "input": [
      "pylab.bar(stab_wts, stab_count)"
     ],
     "language": "python",
     "metadata": {},
     "outputs": [
      {
       "metadata": {},
       "output_type": "pyout",
       "prompt_number": 14,
       "text": [
        "<Container object of 19 artists>"
       ]
      },
      {
       "metadata": {},
       "output_type": "display_data",
       "png": "[encoded data removed]",
       "text": [
        "<matplotlib.figure.Figure at 0x23991d0>"
       ]
      }
     ],
     "prompt_number": 14
    },
    {
     "cell_type": "markdown",
     "metadata": {},
     "source": [
      "Let's examine the weight distributions of the cosets that include logical operators:"
     ]
    },
    {
     "cell_type": "code",
     "collapsed": false,
     "input": [
      "x_0, x_1 = small_code.logical_xs\n",
      "z_0, z_1 = small_code.logical_zs"
     ],
     "language": "python",
     "metadata": {},
     "outputs": [],
     "prompt_number": 15
    },
    {
     "cell_type": "code",
     "collapsed": false,
     "input": [
      "x_0_count, x_0_wts = dq.coset_hist(small_code, x_0)\n",
      "x_1_count, x_1_wts = dq.coset_hist(small_code, x_1)\n",
      "z_0_count, z_0_wts = dq.coset_hist(small_code, z_0)\n",
      "z_1_count, z_1_wts = dq.coset_hist(small_code, z_1)"
     ],
     "language": "python",
     "metadata": {},
     "outputs": [],
     "prompt_number": 16
    },
    {
     "cell_type": "code",
     "collapsed": false,
     "input": [
      "ax = pylab.subplot(111)\n",
      "ax.bar(x_0_wts, x_0_count, color='b', alpha=0.25)\n",
      "ax.bar(x_1_wts, x_1_count, color='r', alpha=0.25)\n",
      "ax.bar(z_0_wts, z_0_count, color='g', alpha=0.25)\n",
      "ax.bar(z_1_wts, z_1_count, color='y', alpha=0.25)"
     ],
     "language": "python",
     "metadata": {},
     "outputs": [
      {
       "metadata": {},
       "output_type": "pyout",
       "prompt_number": 33,
       "text": [
        "<Container object of 19 artists>"
       ]
      },
      {
       "metadata": {},
       "output_type": "display_data",
       "png": "[encoded data removed]",
       "text": [
        "<matplotlib.figure.Figure at 0x4f88d50>"
       ]
      }
     ],
     "prompt_number": 33
    },
    {
     "cell_type": "markdown",
     "metadata": {},
     "source": [
      "We can see that all the bars overlap exactly. This means that the free energies for the weight distributions that include one logical operator will all be identical. Let's look at 2, 3, and all 4:"
     ]
    },
    {
     "cell_type": "code",
     "collapsed": false,
     "input": [
      "x_01_count, x_01_wts = dq.coset_hist(small_code, x_0 * x_1)\n",
      "z_01_count, z_01_wts = dq.coset_hist(small_code, z_0 * z_1)\n",
      "xz_00_count, xz_00_wts = dq.coset_hist(small_code, x_0 * z_0)\n",
      "xz_11_count, xz_11_wts = dq.coset_hist(small_code, x_1 * z_1)\n",
      "xz_01_count, xz_01_wts = dq.coset_hist(small_code, x_0 * z_1)\n",
      "xz_10_count, xz_10_wts = dq.coset_hist(small_code, x_1 * z_0)"
     ],
     "language": "python",
     "metadata": {},
     "outputs": [],
     "prompt_number": 34
    },
    {
     "cell_type": "code",
     "collapsed": false,
     "input": [
      "ax = pylab.subplot(111)\n",
      "ax.bar(x_01_wts, x_01_count, color='b', alpha=0.25)\n",
      "ax.bar(z_01_wts, z_01_count, color='r', alpha=0.25)\n",
      "ax.bar(xz_00_wts, xz_00_count, color='g', alpha=0.25)\n",
      "ax.bar(xz_11_wts, xz_11_count, color='y', alpha=0.25)\n",
      "ax.bar(xz_01_wts, xz_01_count, color='k', alpha=0.25)\n",
      "ax.bar(xz_10_wts, xz_10_count, color='m', alpha=0.25)"
     ],
     "language": "python",
     "metadata": {},
     "outputs": [
      {
       "metadata": {},
       "output_type": "pyout",
       "prompt_number": 47,
       "text": [
        "<Container object of 19 artists>"
       ]
      },
      {
       "metadata": {},
       "output_type": "display_data",
       "png": "[encoded data removed]",
       "text": [
        "<matplotlib.figure.Figure at 0x8775a10>"
       ]
      }
     ],
     "prompt_number": 47
    },
    {
     "cell_type": "markdown",
     "metadata": {},
     "source": [
      "We see that weight-two logicals break the degeneracy. Suspecting that this is due to logical operator overlap, we plot the overlapping and non-overlapping logicals separately:"
     ]
    },
    {
     "cell_type": "code",
     "collapsed": false,
     "input": [
      "pylab.subplot(111)\n",
      "pylab.bar(xz_01_wts, xz_01_count, color='k', alpha=0.25)\n",
      "pylab.bar(xz_10_wts, xz_10_count, color='m', alpha=0.25)"
     ],
     "language": "python",
     "metadata": {},
     "outputs": [
      {
       "metadata": {},
       "output_type": "pyout",
       "prompt_number": 65,
       "text": [
        "<Container object of 19 artists>"
       ]
      },
      {
       "metadata": {},
       "output_type": "display_data",
       "png": "[encoded data removed]",
       "text": [
        "<matplotlib.figure.Figure at 0x25b91d0>"
       ]
      }
     ],
     "prompt_number": 65
    },
    {
     "cell_type": "code",
     "collapsed": false,
     "input": [
      "ax = pylab.subplot(111)\n",
      "ax.bar(x_01_wts, x_01_count, color='b', alpha=0.25)\n",
      "ax.bar(z_01_wts, z_01_count, color='r', alpha=0.25)\n",
      "ax.bar(xz_00_wts, xz_00_count, color='g', alpha=0.25)\n",
      "ax.bar(xz_11_wts, xz_11_count, color='y', alpha=0.25)"
     ],
     "language": "python",
     "metadata": {},
     "outputs": [
      {
       "metadata": {},
       "output_type": "pyout",
       "prompt_number": 66,
       "text": [
        "<Container object of 19 artists>"
       ]
      },
      {
       "metadata": {},
       "output_type": "display_data",
       "png": "[encoded data removed]",
       "text": [
        "<matplotlib.figure.Figure at 0xa87ebd0>"
       ]
      }
     ],
     "prompt_number": 66
    },
    {
     "cell_type": "markdown",
     "metadata": {},
     "source": [
      "This is interesting. The logical operator weight distribution seems not to depend on the physical weight of the logical operator, but on its _logical_ weight, the number of logical qubits on which it has non-trivial action."
     ]
    },
    {
     "cell_type": "code",
     "collapsed": false,
     "input": [],
     "language": "python",
     "metadata": {},
     "outputs": []
    }
   ],
   "metadata": {}
  }
 ]
}